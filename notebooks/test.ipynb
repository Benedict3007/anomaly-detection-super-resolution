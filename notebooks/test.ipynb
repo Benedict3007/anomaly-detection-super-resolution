{
 "cells": [
  {
   "cell_type": "raw",
   "id": "a5a480de-0758-48dc-8ec5-5b33ccf71bf6",
   "metadata": {},
   "source": [
    "for file in *.png; do     mv \"$file\" \"${file%.*}x8.${file##*.}\"; done"
   ]
  },
  {
   "cell_type": "code",
   "execution_count": 4,
   "id": "35283af0-6b27-4233-8db4-40186c2c9eca",
   "metadata": {
    "tags": []
   },
   "outputs": [
    {
     "name": "stdout",
     "output_type": "stream",
     "text": [
      "Wed Oct  2 09:41:30 2024       \n",
      "+---------------------------------------------------------------------------------------+\n",
      "| NVIDIA-SMI 535.183.01             Driver Version: 535.183.01   CUDA Version: 12.2     |\n",
      "|-----------------------------------------+----------------------+----------------------+\n",
      "| GPU  Name                 Persistence-M | Bus-Id        Disp.A | Volatile Uncorr. ECC |\n",
      "| Fan  Temp   Perf          Pwr:Usage/Cap |         Memory-Usage | GPU-Util  Compute M. |\n",
      "|                                         |                      |               MIG M. |\n",
      "|=========================================+======================+======================|\n",
      "|   0  NVIDIA H100 PCIe               On  | 00000000:21:00.0 Off |                   On |\n",
      "| N/A   55C    P0             220W / 310W |   9112MiB / 81559MiB |     N/A      Default |\n",
      "|                                         |                      |              Enabled |\n",
      "+-----------------------------------------+----------------------+----------------------+\n",
      "\n",
      "+---------------------------------------------------------------------------------------+\n",
      "| MIG devices:                                                                          |\n",
      "+------------------+--------------------------------+-----------+-----------------------+\n",
      "| GPU  GI  CI  MIG |                   Memory-Usage |        Vol|      Shared           |\n",
      "|      ID  ID  Dev |                     BAR1-Usage | SM     Unc| CE ENC DEC OFA JPG    |\n",
      "|                  |                                |        ECC|                       |\n",
      "|==================+================================+===========+=======================|\n",
      "|  0    1   0   0  |            9074MiB / 40320MiB  | 46      0 |  3   0    3    0    3 |\n",
      "|                  |               3MiB / 65535MiB  |           |                       |\n",
      "+------------------+--------------------------------+-----------+-----------------------+\n",
      "|  0    2   0   1  |              37MiB / 40320MiB  | 46      0 |  3   0    3    0    3 |\n",
      "|                  |               0MiB / 65535MiB  |           |                       |\n",
      "+------------------+--------------------------------+-----------+-----------------------+\n",
      "                                                                                         \n",
      "+---------------------------------------------------------------------------------------+\n",
      "| Processes:                                                                            |\n",
      "|  GPU   GI   CI        PID   Type   Process name                            GPU Memory |\n",
      "|        ID   ID                                                             Usage      |\n",
      "|=======================================================================================|\n",
      "|    0    1    0    4188726      C   python                                     9028MiB |\n",
      "+---------------------------------------------------------------------------------------+\n"
     ]
    }
   ],
   "source": [
    "!nvidia-smi"
   ]
  },
  {
   "cell_type": "code",
   "execution_count": 2,
   "id": "e894833f-53de-4f56-9736-8ca298156028",
   "metadata": {},
   "outputs": [],
   "source": [
    "import torch"
   ]
  },
  {
   "cell_type": "code",
   "execution_count": null,
   "id": "153834cd-7389-4003-893e-9167d5217664",
   "metadata": {},
   "outputs": [],
   "source": [
    "torch.cuda.is_available()"
   ]
  },
  {
   "cell_type": "code",
   "execution_count": null,
   "id": "9de84164-03d7-494e-9b3e-e0bcd223fa46",
   "metadata": {},
   "outputs": [],
   "source": [
    "import os\n",
    "import multiprocessing\n",
    "\n",
    "# Get the number of CPU cores\n",
    "num_cores = os.cpu_count()  # Alternatively, you can use multiprocessing.cpu_count()\n",
    "print(f\"Number of CPU cores available: {num_cores}\")"
   ]
  },
  {
   "cell_type": "code",
   "execution_count": 1,
   "id": "a8cdda41-e361-417e-ad52-1b62e6f2db6c",
   "metadata": {
    "tags": []
   },
   "outputs": [],
   "source": [
    "import os\n",
    "from PIL import Image\n",
    "import glob\n",
    "import matplotlib.pyplot as plt"
   ]
  },
  {
   "cell_type": "code",
   "execution_count": 2,
   "id": "73559ff8-57f5-45a0-b79d-2f2c13aa94b9",
   "metadata": {
    "tags": []
   },
   "outputs": [],
   "source": [
    "def resize_images(input_folder, output_folder, width, height, suffix=''):\n",
    "    # Create the output directory if it doesn't exist\n",
    "    os.makedirs(output_folder, exist_ok=True)\n",
    "    \n",
    "    # Loop through all files in the input folder\n",
    "    for filename in os.listdir(input_folder):\n",
    "        # Check if the file is an image\n",
    "        if filename.lower().endswith(('.jpg', '.jpeg', '.png', '.gif', '.bmp')):\n",
    "            # Open the image\n",
    "            img = Image.open(os.path.join(input_folder, filename))\n",
    "            \n",
    "            # Resize the image\n",
    "            resized_img = img.resize((width, height), resample=Image.BICUBIC)\n",
    "            \n",
    "            # Modify the filename only if a suffix is provided\n",
    "            if suffix:\n",
    "                name, ext = os.path.splitext(filename)\n",
    "                new_filename = f\"{name}{suffix}{ext}\"\n",
    "            else:\n",
    "                new_filename = filename\n",
    "            \n",
    "            # Save the resized image to the output folder with the new filename\n",
    "            resized_img.save(os.path.join(output_folder, new_filename))\n",
    "\n",
    "    print(\"Image resizing completed.\")"
   ]
  },
  {
   "cell_type": "code",
   "execution_count": 6,
   "id": "17961194-62d2-4e7b-b430-934b8506f51e",
   "metadata": {},
   "outputs": [
    {
     "name": "stdout",
     "output_type": "stream",
     "text": [
      "Image resizing completed.\n",
      "Image resizing completed.\n",
      "Image resizing completed.\n",
      "Image resizing completed.\n",
      "Image resizing completed.\n",
      "Image resizing completed.\n",
      "Image resizing completed.\n",
      "Image resizing completed.\n",
      "Image resizing completed.\n"
     ]
    }
   ],
   "source": [
    "# Example usage\n",
    "# input_folder_1 = \"workspace/gkd_large/DC0/train/HR_512/HR\"\n",
    "# output_folder_1 = \"workspace/gkd_large/DC0/train/HR_128/HR\"\n",
    "# size_1 = 128\n",
    "# resize_images(input_folder_1, output_folder_1, size_1, size_1)\n",
    "# input_folder_13 = \"workspace/gkd_large/DC2/train/HR_512/HR\"\n",
    "# output_folder_13 = \"workspace/gkd_large/DC2/train/HR_128/HR\"\n",
    "# size_13 = 128\n",
    "# resize_images(input_folder_13, output_folder_13, size_13, size_13)\n",
    "# input_folder_14 = \"workspace/gkd_large/DC0/train/HR_64/HR\"\n",
    "# output_folder_14 = \"workspace/gkd_large/DC0/train/HR_64/LR_bicubic/X8\"\n",
    "# size_14 = 8\n",
    "# resize_images(input_folder_14, output_folder_14, size_14, size_14, suffix='x8')\n",
    "input_folder_2 = \"workspace/gkd_large/DC2/train/HR_128/HR\"\n",
    "output_folder_2 = \"workspace/gkd_large/DC2/train/HR_128/LR_bicubic/X2\"\n",
    "size_2 = 64\n",
    "resize_images(input_folder_2, output_folder_2, size_2, size_2, suffix='x2')\n",
    "input_folder_15 = \"workspace/gkd_large/DC2/train/HR_128/HR\"\n",
    "output_folder_15 = \"workspace/gkd_large/DC2/train/HR_128/LR_bicubic/X4\"\n",
    "size_15 = 32\n",
    "resize_images(input_folder_15, output_folder_15, size_15, size_15, suffix='x4')\n",
    "input_folder_16 = \"workspace/gkd_large/DC2/train/HR_128/HR\"\n",
    "output_folder_16 = \"workspace/gkd_large/DC2/train/HR_128/LR_bicubic/X8\"\n",
    "size_16 = 16\n",
    "resize_images(input_folder_16, output_folder_16, size_16, size_16, suffix='x8')\n",
    "input_folder_3 = \"workspace/gkd_large/DC2/test/HR_128/bad/HR\"\n",
    "output_folder_3 = \"workspace/gkd_large/DC2/test/HR_128/bad/LR_bicubic/X2\"\n",
    "size_3 = 64\n",
    "resize_images(input_folder_3, output_folder_3, size_3, size_3, suffix='x2')\n",
    "input_folder_17 = \"workspace/gkd_large/DC2/test/HR_128/bad/HR\"\n",
    "output_folder_17 = \"workspace/gkd_large/DC2/test/HR_128/bad/LR_bicubic/X4\"\n",
    "size_17 = 32\n",
    "resize_images(input_folder_17, output_folder_17, size_17, size_17, suffix='x4')\n",
    "input_folder_18 = \"workspace/gkd_large/DC2/test/HR_128/bad/HR\"\n",
    "output_folder_18 = \"workspace/gkd_large/DC2/test/HR_128/bad/LR_bicubic/X8\"\n",
    "size_18 = 16\n",
    "resize_images(input_folder_18, output_folder_18, size_18, size_18, suffix='x8')\n",
    "input_folder_4 = \"workspace/gkd_large/DC2/test/HR_128/good/HR\"\n",
    "output_folder_4 = \"workspace/gkd_large/DC2/test/HR_128/good/LR_bicubic/X2\"\n",
    "size_4 = 64\n",
    "resize_images(input_folder_4, output_folder_4, size_4, size_4, suffix='x2')\n",
    "input_folder_19 = \"workspace/gkd_large/DC2/test/HR_128/good/HR\"\n",
    "output_folder_19 = \"workspace/gkd_large/DC2/test/HR_128/good/LR_bicubic/X4\"\n",
    "size_19 = 32\n",
    "resize_images(input_folder_19, output_folder_19, size_19, size_19, suffix='x4')\n",
    "input_folder_20 = \"workspace/gkd_large/DC2/test/HR_128/good/HR\"\n",
    "output_folder_20 = \"workspace/gkd_large/DC2/test/HR_128/good/LR_bicubic/X8\"\n",
    "size_20 = 16\n",
    "resize_images(input_folder_20, output_folder_20, size_20, size_20, suffix='x8')\n",
    "# input_folder_5 = \"workspace/gkd_large/DC0/test/HR_64/bad/HR\"\n",
    "# output_folder_5 = \"workspace/gkd_large/DC0/test/HR_64/bad/LR_bicubic/X2\"\n",
    "# size_5 = 32\n",
    "# resize_images(input_folder_5, output_folder_5, size_5, size_5, suffix='x2')\n",
    "# input_folder_21 = \"workspace/gkd_large/DC0/test/HR_64/bad/HR\"\n",
    "# output_folder_21 = \"workspace/gkd_large/DC0/test/HR_64/bad/LR_bicubic/X4\"\n",
    "# size_21 = 16\n",
    "# resize_images(input_folder_21, output_folder_21, size_21, size_21, suffix='x4')\n",
    "# input_folder_22 = \"workspace/gkd_large/DC0/test/HR_64/bad/HR\"\n",
    "# output_folder_22 = \"workspace/gkd_large/DC0/test/HR_64/bad/LR_bicubic/X8\"\n",
    "# size_22 = 8\n",
    "# resize_images(input_folder_22, output_folder_22, size_22, size_22, suffix='x8')\n",
    "# input_folder_6 = \"workspace/gkd_large/DC0/test/HR_32/bad/HR\"\n",
    "# output_folder_6 = \"workspace/gkd_large/DC0/test/HR_32/bad/LR_bicubic/X2\"\n",
    "# size_6 = 16\n",
    "# resize_images(input_folder_6, output_folder_6, size_6, size_6, suffix='x2')\n",
    "# input_folder_23 = \"workspace/gkd_large/DC0/test/HR_32/bad/HR\"\n",
    "# output_folder_23 = \"workspace/gkd_large/DC0/test/HR_32/bad/LR_bicubic/X4\"\n",
    "# size_23 = 8\n",
    "# resize_images(input_folder_23, output_folder_23, size_23, size_23, suffix='x4')\n",
    "# input_folder_24 = \"workspace/gkd_large/DC0/test/HR_32/bad/HR\"\n",
    "# output_folder_24 = \"workspace/gkd_large/DC0/test/HR_32/bad/LR_bicubic/X8\"\n",
    "# size_24 = 4\n",
    "# resize_images(input_folder_24, output_folder_24, size_24, size_24, suffix='x8')\n",
    "# input_folder_7 = \"workspace/gkd_large/DC0/test/HR_64/good/HR\"\n",
    "# output_folder_7 = \"workspace/gkd_large/DC0/test/HR_64/good/LR_bicubic/X2\"\n",
    "# size_7 = 32\n",
    "# resize_images(input_folder_7, output_folder_7, size_7, size_7, suffix='x2')\n",
    "# input_folder_25 = \"workspace/gkd_large/DC0/test/HR_64/good/HR\"\n",
    "# output_folder_25 = \"workspace/gkd_large/DC0/test/HR_64/good/LR_bicubic/X4\"\n",
    "# size_25 = 16\n",
    "# resize_images(input_folder_25, output_folder_25, size_25, size_25, suffix='x4')\n",
    "# input_folder_26 = \"workspace/gkd_large/DC0/test/HR_64/good/HR\"\n",
    "# output_folder_26 = \"workspace/gkd_large/DC0/test/HR_64/good/LR_bicubic/X8\"\n",
    "# size_26 = 8\n",
    "# resize_images(input_folder_26, output_folder_26, size_26, size_26, suffix='x8')\n",
    "# input_folder_8 = \"workspace/gkd_large/DC0/test/HR_32/good/HR\"\n",
    "# output_folder_8 = \"workspace/gkd_large/DC0/test/HR_32/good/LR_bicubic/X2\"\n",
    "# size_8 = 16\n",
    "# resize_images(input_folder_8, output_folder_8, size_8, size_8, suffix='x2')\n",
    "# input_folder_27 = \"workspace/gkd_large/DC0/test/HR_32/good/HR\"\n",
    "# output_folder_27 = \"workspace/gkd_large/DC0/test/HR_32/good/LR_bicubic/X4\"\n",
    "# size_27 = 8\n",
    "# resize_images(input_folder_27, output_folder_27, size_27, size_27, suffix='x4')\n",
    "# input_folder_28 = \"workspace/gkd_large/DC0/test/HR_32/good/HR\"\n",
    "# output_folder_28 = \"workspace/gkd_large/DC0/test/HR_32/good/LR_bicubic/X8\"\n",
    "# size_28 = 4\n",
    "# resize_images(input_folder_28, output_folder_28, size_28, size_28, suffix='x8')\n",
    "# input_folder_9 = \"workspace/gkd_large/DC0/test/HR_64/bad/HR\"\n",
    "# output_folder_9 = \"workspace/gkd_large/DC0/test/HR_64/bad/LR_bicubic/X2\"\n",
    "# size_9 = 32\n",
    "# resize_images(input_folder_9, output_folder_9, size_9, size_9, suffix='x2')\n",
    "# input_folder_29 = \"workspace/gkd_large/DC0/test/HR_64/bad/HR\"\n",
    "# output_folder_29 = \"workspace/gkd_large/DC0/test/HR_64/bad/LR_bicubic/X4\"\n",
    "# size_29 = 16 \n",
    "# resize_images(input_folder_29, output_folder_29, size_29, size_29, suffix='x4')\n",
    "# input_folder_30 = \"workspace/gkd_large/DC0/test/HR_64/bad/HR\"\n",
    "# output_folder_30 = \"workspace/gkd_large/DC0/test/HR_64/bad/LR_bicubic/X8\"\n",
    "# size_30 = 8\n",
    "# resize_images(input_folder_30, output_folder_30, size_30, size_30, suffix='x8')\n",
    "# input_folder_10 = \"workspace/gkd_large/DC0/test/HR_32/bad/HR\"\n",
    "# output_folder_10 = \"workspace/gkd_large/DC0/test/HR_32/bad/LR_bicubic/X2\"\n",
    "# size_10 = 16\n",
    "# resize_images(input_folder_10, output_folder_10, size_10, size_10, suffix='x2')\n",
    "# input_folder_31 = \"workspace/gkd_large/DC0/test/HR_32/bad/HR\"\n",
    "# output_folder_31 = \"workspace/gkd_large/DC0/test/HR_32/bad/LR_bicubic/X4\"\n",
    "# size_31 = 8\n",
    "# resize_images(input_folder_31, output_folder_31, size_31, size_31, suffix='x4')\n",
    "# input_folder_32 = \"workspace/gkd_large/DC0/test/HR_32/bad/HR\"\n",
    "# output_folder_32 = \"workspace/gkd_large/DC0/test/HR_32/bad/LR_bicubic/X8\"\n",
    "# size_32 = 4\n",
    "# resize_images(input_folder_32, output_folder_32, size_32, size_32, suffix='x8')\n",
    "# input_folder_11 = \"workspace/gkd_large/DC2/test/HR_64/good/HR\"\n",
    "# output_folder_11 = \"workspace/gkd_large/DC2/test/HR_64/good/LR_bicubic/X2\"\n",
    "# size_11 = 32\n",
    "# resize_images(input_folder_11, output_folder_11, size_11, size_11, suffix='x2')\n",
    "# input_folder_33 = \"workspace/gkd_large/DC2/test/HR_64/good/HR\"\n",
    "# output_folder_33 = \"workspace/gkd_large/DC2/test/HR_64/good/LR_bicubic/X4\"\n",
    "# size_33 = 16\n",
    "# resize_images(input_folder_33, output_folder_33, size_33, size_33, suffix='x4')\n",
    "# input_folder_34 = \"workspace/gkd_large/DC2/test/HR_64/good/HR\"\n",
    "# output_folder_34 = \"workspace/gkd_large/DC2/test/HR_64/good/LR_bicubic/X8\"\n",
    "# size_34 = 8\n",
    "# resize_images(input_folder_34, output_folder_34, size_34, size_34, suffix='x8')\n",
    "# input_folder_12 = \"workspace/gkd_large/DC2/test/HR_32/good/HR\"\n",
    "# output_folder_12 = \"workspace/gkd_large/DC2/test/HR_32/good/LR_bicubic/X2\"\n",
    "# size_12 = 16\n",
    "# resize_images(input_folder_12, output_folder_12, size_12, size_12, suffix='x2')\n",
    "# input_folder_35 = \"workspace/gkd_large/DC2/test/HR_32/good/HR\"\n",
    "# output_folder_35 = \"workspace/gkd_large/DC2/test/HR_32/good/LR_bicubic/X4\"\n",
    "# size_35 = 8\n",
    "# resize_images(input_folder_35, output_folder_35, size_35, size_35, suffix='x4')\n",
    "# input_folder_36 = \"workspace/gkd_large/DC2/test/HR_32/good/HR\"\n",
    "# output_folder_36 = \"workspace/gkd_large/DC2/test/HR_32/good/LR_bicubic/X8\"\n",
    "# size_36 = 4\n",
    "# resize_images(input_folder_36, output_folder_36, size_36, size_36, suffix='x8')"
   ]
  },
  {
   "cell_type": "code",
   "execution_count": null,
   "id": "0f5884a9-bd5d-4790-8b44-13772e5a3f78",
   "metadata": {},
   "outputs": [],
   "source": [
    "def show_images(images, number):\n",
    "    for png_file in images[:number]:\n",
    "        try:\n",
    "            # Open the PNG file\n",
    "            with Image.open(png_file) as img:\n",
    "                # Get the image size\n",
    "                width, height = img.size\n",
    "                \n",
    "                # Display the image and its size\n",
    "                plt.figure()\n",
    "                plt.imshow(img)\n",
    "                plt.title(f\"Size: {width}x{height}\")\n",
    "                plt.axis('off')  # Hide axes\n",
    "                plt.show()\n",
    "                \n",
    "                print(f\"Displayed {png_file} with size {width}x{height}\")\n",
    "        except Exception as e:\n",
    "            print(f\"Error displaying {png_file}: {e}\")"
   ]
  },
  {
   "cell_type": "code",
   "execution_count": null,
   "id": "e10a406d-a681-4f08-abd4-99466c684017",
   "metadata": {},
   "outputs": [],
   "source": [
    "pred_images_dir = \"./workspace/mvtec_anomaly_detection/carpet/train/LR_bicubic/X4\"\n",
    "pred_images = glob.glob(os.path.join(pred_images_dir, '*.png'))\n",
    "show_images(pred_images, 2)"
   ]
  },
  {
   "cell_type": "code",
   "execution_count": null,
   "id": "d457503b-0ab1-4ab3-8f26-a766051b4d5c",
   "metadata": {},
   "outputs": [],
   "source": [
    "import numpy as np\n",
    "import matplotlib.pyplot as plt\n",
    "from PIL import Image"
   ]
  },
  {
   "cell_type": "code",
   "execution_count": null,
   "id": "2fefc394-6f5e-4e7a-9c9e-a0cd0a7e1327",
   "metadata": {},
   "outputs": [],
   "source": [
    "ori_img_path = './workspace/images/ori_carpet_000.png'\n",
    "recon_img_path = './workspace/images/pred_carpet_cut_x4_1000_000.png'\n",
    "ori_img = Image.open(ori_img_path)\n",
    "recon_img = Image.open(recon_img_path)\n",
    "I_original = np.array(ori_img)\n",
    "I_reconstructed = np.array(recon_img)"
   ]
  },
  {
   "cell_type": "code",
   "execution_count": null,
   "id": "96f9b0d8-81bb-464f-8138-659f5620b8e3",
   "metadata": {},
   "outputs": [],
   "source": [
    "I_difference = np.abs(I_original - I_reconstructed)\n",
    "# I_difference = np.abs(I_reconstructed - I_original)"
   ]
  },
  {
   "cell_type": "code",
   "execution_count": null,
   "id": "a30e043d-a73e-47af-9fd9-656d2762f6ae",
   "metadata": {},
   "outputs": [],
   "source": [
    "I_normalized = (I_difference - I_difference.min(axis=(0, 1), keepdims=True)) / (I_difference.max(axis=(0, 1), keepdims=True) - I_difference.min(axis=(0, 1), keepdims=True))\n",
    "\n",
    "I_normalized_gray = np.mean(I_normalized, axis=2)\n",
    "heatmap = plt.cm.jet(I_normalized_gray)[:, :, :3]\n",
    "\n",
    "I_original_norm = (I_original - I_original.min(axis=(0, 1), keepdims=True)) / (I_original.max(axis=(0, 1), keepdims=True) - I_original.min(axis=(0, 1), keepdims=True))\n",
    "\n",
    "alpha = 0.5\n",
    "overlay = alpha * heatmap + (1 - alpha) * I_original_norm"
   ]
  },
  {
   "cell_type": "code",
   "execution_count": null,
   "id": "2db316ea-7d2f-489a-98a1-ad46a509078e",
   "metadata": {},
   "outputs": [],
   "source": [
    "# Display the results\n",
    "plt.figure(figsize=(14, 6))\n",
    "\n",
    "# Original Image\n",
    "plt.subplot(1, 2, 1)\n",
    "plt.imshow(I_original)\n",
    "plt.title('Original Image')\n",
    "plt.axis('off')\n",
    "\n",
    "# Anomaly Score Map\n",
    "plt.subplot(1, 2, 2)\n",
    "plt.imshow(I_normalized_gray, cmap='jet')\n",
    "plt.colorbar()\n",
    "plt.title('Anomaly Score Map')\n",
    "plt.axis('off')\n",
    "\n",
    "# Overlay of Heatmap on Original Image\n",
    "# plt.subplot(1, 3, 3)\n",
    "# plt.imshow(overlay)\n",
    "# plt.title('Overlay of Heatmap on Original Image')\n",
    "# plt.axis('off')\n",
    "\n",
    "plt.tight_layout()\n",
    "plt.show()"
   ]
  },
  {
   "cell_type": "code",
   "execution_count": null,
   "id": "4c11a264-f53c-4de4-91fa-3757718cfa2e",
   "metadata": {},
   "outputs": [],
   "source": [
    "from PIL import Image\n",
    "import numpy as np\n",
    "import matplotlib.pyplot as plt\n",
    "from skimage.metrics import structural_similarity as ssim"
   ]
  },
  {
   "cell_type": "code",
   "execution_count": null,
   "id": "0174b036-77b4-4504-b8cb-6e145ee2f25f",
   "metadata": {},
   "outputs": [],
   "source": [
    "ori_img_path = './workspace/images/ori_carpet_000.png'\n",
    "recon_img_path = './workspace/images/pred_carpet_cut_x4_1000_000.png'\n",
    "ori_img = Image.open(ori_img_path).convert('RGB')\n",
    "recon_img = Image.open(recon_img_path).convert('RGB')\n",
    "I_original = np.array(ori_img)\n",
    "I_reconstructed = np.array(recon_img)"
   ]
  },
  {
   "cell_type": "code",
   "execution_count": null,
   "id": "d1a56ff5-094a-4e25-99c0-474d775b3acb",
   "metadata": {},
   "outputs": [],
   "source": [
    "# Convert images to grayscale for SSIM computation\n",
    "I_original_gray = np.mean(I_original, axis=2)\n",
    "I_reconstructed_gray = np.mean(I_reconstructed, axis=2)\n",
    "# Debugging: Check the shapes of the grayscale images\n",
    "print(f\"Original Gray Shape: {I_original_gray.shape}\")\n",
    "print(f\"Reconstructed Gray Shape: {I_reconstructed_gray.shape}\")"
   ]
  },
  {
   "cell_type": "code",
   "execution_count": null,
   "id": "fb3926df-4923-4319-9e1c-2eb737017a91",
   "metadata": {},
   "outputs": [],
   "source": [
    "# Compute SSIM between the original and reconstructed images\n",
    "ssim_map, ssim_full = ssim(I_original_gray, I_reconstructed_gray, data_range=255, full=True)\n",
    "\n",
    "# Debugging: Check the shape of the SSIM map\n",
    "print(f\"SSIM Map Shape: {ssim_full.shape}\")"
   ]
  },
  {
   "cell_type": "code",
   "execution_count": null,
   "id": "439db6ea-5891-49ec-9250-f19f55336f32",
   "metadata": {},
   "outputs": [],
   "source": [
    "# Invert SSIM map to highlight anomalies (1 - SSIM)\n",
    "anomaly_score_map = 1 - ssim_full"
   ]
  },
  {
   "cell_type": "code",
   "execution_count": null,
   "id": "e5193010-859f-46de-903a-43c64b5e2b1e",
   "metadata": {},
   "outputs": [],
   "source": [
    "# Normalize the anomaly score map for visualization\n",
    "min_val = np.min(anomaly_score_map)\n",
    "max_val = np.max(anomaly_score_map)\n",
    "# Check if the min and max values are the same to avoid division by zero\n",
    "if min_val != max_val:\n",
    "    anomaly_score_map_normalized = (anomaly_score_map - min_val) / (max_val - min_val)\n",
    "else:\n",
    "    anomaly_score_map_normalized = anomaly_score_map"
   ]
  },
  {
   "cell_type": "code",
   "execution_count": null,
   "id": "6663d0ca-fbed-4dc1-910d-fd78873d149b",
   "metadata": {},
   "outputs": [],
   "source": [
    "# Display the results\n",
    "plt.figure(figsize=(14, 6))\n",
    "\n",
    "# Original Image\n",
    "plt.subplot(1, 2, 1)\n",
    "plt.imshow(I_original)\n",
    "plt.title('Original Image')\n",
    "plt.axis('off')\n",
    "\n",
    "# Anomaly Score Map using SSIM\n",
    "plt.subplot(1, 2, 2)\n",
    "plt.imshow(anomaly_score_map_normalized, cmap='jet')\n",
    "plt.colorbar()\n",
    "plt.title('Anomaly Score Map (SSIM)')\n",
    "plt.axis('off')\n",
    "\n",
    "plt.tight_layout()\n",
    "plt.show()"
   ]
  },
  {
   "cell_type": "code",
   "execution_count": null,
   "id": "b8a3336c-487f-489d-90cd-047dbb8a8c0d",
   "metadata": {},
   "outputs": [],
   "source": [
    "# Directory containing TIFF images\n",
    "input_dir = './workspace/experiment/efficientad/anomaly_maps/mvtec_ad/carpet/test/cut'\n",
    "output_dir = './workspace/experiment/efficientad/anomaly_maps/mvtec_ad/carpet/test/cut'"
   ]
  },
  {
   "cell_type": "code",
   "execution_count": null,
   "id": "ba35a592-12e1-48f1-8689-05754a9e20c9",
   "metadata": {},
   "outputs": [],
   "source": [
    "# Ensure the output directory exists\n",
    "os.makedirs(output_dir, exist_ok=True)"
   ]
  },
  {
   "cell_type": "code",
   "execution_count": null,
   "id": "af237784-9db5-40af-acc3-7cc1df84ef33",
   "metadata": {},
   "outputs": [],
   "source": [
    "# Iterate over all TIFF files in the input directory\n",
    "for filename in os.listdir(input_dir):\n",
    "    if filename.endswith('.tiff'):\n",
    "        # Open the TIFF image\n",
    "        tiff_image = Image.open(os.path.join(input_dir, filename))\n",
    "        \n",
    "        # Convert to RGB (or 'L' for grayscale)\n",
    "        tiff_image = tiff_image.convert('RGB')\n",
    "        \n",
    "        # Create the output filename\n",
    "        output_filename = os.path.splitext(filename)[0] + '.png'\n",
    "        \n",
    "        # Save it as a PNG image\n",
    "        tiff_image.save(os.path.join(output_dir, output_filename), 'PNG')"
   ]
  },
  {
   "cell_type": "markdown",
   "id": "4c901519-f899-4dc4-8902-2703ace82244",
   "metadata": {},
   "source": [
    "# GKD Dataset Preparation"
   ]
  },
  {
   "cell_type": "code",
   "execution_count": 1,
   "id": "1f518a51-19dc-458e-9da3-016f34365c25",
   "metadata": {},
   "outputs": [
    {
     "data": {
      "text/html": [
       "<div>\n",
       "<style scoped>\n",
       "    .dataframe tbody tr th:only-of-type {\n",
       "        vertical-align: middle;\n",
       "    }\n",
       "\n",
       "    .dataframe tbody tr th {\n",
       "        vertical-align: top;\n",
       "    }\n",
       "\n",
       "    .dataframe thead th {\n",
       "        text-align: right;\n",
       "    }\n",
       "</style>\n",
       "<table border=\"1\" class=\"dataframe\">\n",
       "  <thead>\n",
       "    <tr style=\"text-align: right;\">\n",
       "      <th></th>\n",
       "      <th>filepath</th>\n",
       "      <th>image_kind</th>\n",
       "      <th>original_image_name</th>\n",
       "      <th>x</th>\n",
       "      <th>y</th>\n",
       "    </tr>\n",
       "  </thead>\n",
       "  <tbody>\n",
       "    <tr>\n",
       "      <th>31360</th>\n",
       "      <td>NIO/2023_01_17_04_25_24_276_DC2_Gewebe_und_Nah...</td>\n",
       "      <td>3</td>\n",
       "      <td>2023_01_17_04_25_24_276_DC2_Gewebe_und_Naht_un...</td>\n",
       "      <td>0</td>\n",
       "      <td>0</td>\n",
       "    </tr>\n",
       "    <tr>\n",
       "      <th>31361</th>\n",
       "      <td>NIO/2023_01_17_04_25_24_276_DC2_Gewebe_und_Nah...</td>\n",
       "      <td>3</td>\n",
       "      <td>2023_01_17_04_25_24_276_DC2_Gewebe_und_Naht_un...</td>\n",
       "      <td>0</td>\n",
       "      <td>1</td>\n",
       "    </tr>\n",
       "    <tr>\n",
       "      <th>31362</th>\n",
       "      <td>NIO/2023_01_17_04_25_24_276_DC2_Gewebe_und_Nah...</td>\n",
       "      <td>3</td>\n",
       "      <td>2023_01_17_04_25_24_276_DC2_Gewebe_und_Naht_un...</td>\n",
       "      <td>0</td>\n",
       "      <td>2</td>\n",
       "    </tr>\n",
       "    <tr>\n",
       "      <th>31363</th>\n",
       "      <td>NIO/2023_01_17_04_25_24_276_DC2_Gewebe_und_Nah...</td>\n",
       "      <td>3</td>\n",
       "      <td>2023_01_17_04_25_24_276_DC2_Gewebe_und_Naht_un...</td>\n",
       "      <td>0</td>\n",
       "      <td>3</td>\n",
       "    </tr>\n",
       "    <tr>\n",
       "      <th>31364</th>\n",
       "      <td>NIO/2023_01_17_04_25_24_276_DC2_Gewebe_und_Nah...</td>\n",
       "      <td>3</td>\n",
       "      <td>2023_01_17_04_25_24_276_DC2_Gewebe_und_Naht_un...</td>\n",
       "      <td>0</td>\n",
       "      <td>4</td>\n",
       "    </tr>\n",
       "    <tr>\n",
       "      <th>...</th>\n",
       "      <td>...</td>\n",
       "      <td>...</td>\n",
       "      <td>...</td>\n",
       "      <td>...</td>\n",
       "      <td>...</td>\n",
       "    </tr>\n",
       "    <tr>\n",
       "      <th>34715</th>\n",
       "      <td>NIO/2023_02_08_12_41_28_364_DC2_Gewebe_und_Nah...</td>\n",
       "      <td>3</td>\n",
       "      <td>2023_02_08_12_41_28_364_DC2_Gewebe_und_Naht_un...</td>\n",
       "      <td>0</td>\n",
       "      <td>9</td>\n",
       "    </tr>\n",
       "    <tr>\n",
       "      <th>34716</th>\n",
       "      <td>NIO/2023_02_08_12_41_28_364_DC2_Gewebe_und_Nah...</td>\n",
       "      <td>3</td>\n",
       "      <td>2023_02_08_12_41_28_364_DC2_Gewebe_und_Naht_un...</td>\n",
       "      <td>0</td>\n",
       "      <td>10</td>\n",
       "    </tr>\n",
       "    <tr>\n",
       "      <th>34717</th>\n",
       "      <td>NIO/2023_02_08_12_41_28_364_DC2_Gewebe_und_Nah...</td>\n",
       "      <td>3</td>\n",
       "      <td>2023_02_08_12_41_28_364_DC2_Gewebe_und_Naht_un...</td>\n",
       "      <td>0</td>\n",
       "      <td>11</td>\n",
       "    </tr>\n",
       "    <tr>\n",
       "      <th>34718</th>\n",
       "      <td>NIO/2023_02_08_12_41_28_364_DC2_Gewebe_und_Nah...</td>\n",
       "      <td>3</td>\n",
       "      <td>2023_02_08_12_41_28_364_DC2_Gewebe_und_Naht_un...</td>\n",
       "      <td>0</td>\n",
       "      <td>12</td>\n",
       "    </tr>\n",
       "    <tr>\n",
       "      <th>34719</th>\n",
       "      <td>NIO/2023_02_08_12_41_28_364_DC2_Gewebe_und_Nah...</td>\n",
       "      <td>3</td>\n",
       "      <td>2023_02_08_12_41_28_364_DC2_Gewebe_und_Naht_un...</td>\n",
       "      <td>0</td>\n",
       "      <td>13</td>\n",
       "    </tr>\n",
       "  </tbody>\n",
       "</table>\n",
       "<p>3360 rows × 5 columns</p>\n",
       "</div>"
      ],
      "text/plain": [
       "                                                filepath  image_kind  \\\n",
       "31360  NIO/2023_01_17_04_25_24_276_DC2_Gewebe_und_Nah...           3   \n",
       "31361  NIO/2023_01_17_04_25_24_276_DC2_Gewebe_und_Nah...           3   \n",
       "31362  NIO/2023_01_17_04_25_24_276_DC2_Gewebe_und_Nah...           3   \n",
       "31363  NIO/2023_01_17_04_25_24_276_DC2_Gewebe_und_Nah...           3   \n",
       "31364  NIO/2023_01_17_04_25_24_276_DC2_Gewebe_und_Nah...           3   \n",
       "...                                                  ...         ...   \n",
       "34715  NIO/2023_02_08_12_41_28_364_DC2_Gewebe_und_Nah...           3   \n",
       "34716  NIO/2023_02_08_12_41_28_364_DC2_Gewebe_und_Nah...           3   \n",
       "34717  NIO/2023_02_08_12_41_28_364_DC2_Gewebe_und_Nah...           3   \n",
       "34718  NIO/2023_02_08_12_41_28_364_DC2_Gewebe_und_Nah...           3   \n",
       "34719  NIO/2023_02_08_12_41_28_364_DC2_Gewebe_und_Nah...           3   \n",
       "\n",
       "                                     original_image_name  x   y  \n",
       "31360  2023_01_17_04_25_24_276_DC2_Gewebe_und_Naht_un...  0   0  \n",
       "31361  2023_01_17_04_25_24_276_DC2_Gewebe_und_Naht_un...  0   1  \n",
       "31362  2023_01_17_04_25_24_276_DC2_Gewebe_und_Naht_un...  0   2  \n",
       "31363  2023_01_17_04_25_24_276_DC2_Gewebe_und_Naht_un...  0   3  \n",
       "31364  2023_01_17_04_25_24_276_DC2_Gewebe_und_Naht_un...  0   4  \n",
       "...                                                  ... ..  ..  \n",
       "34715  2023_02_08_12_41_28_364_DC2_Gewebe_und_Naht_un...  0   9  \n",
       "34716  2023_02_08_12_41_28_364_DC2_Gewebe_und_Naht_un...  0  10  \n",
       "34717  2023_02_08_12_41_28_364_DC2_Gewebe_und_Naht_un...  0  11  \n",
       "34718  2023_02_08_12_41_28_364_DC2_Gewebe_und_Naht_un...  0  12  \n",
       "34719  2023_02_08_12_41_28_364_DC2_Gewebe_und_Naht_un...  0  13  \n",
       "\n",
       "[3360 rows x 5 columns]"
      ]
     },
     "execution_count": 1,
     "metadata": {},
     "output_type": "execute_result"
    }
   ],
   "source": [
    "import pandas as pd\n",
    "from io import StringIO\n",
    "df_dataset_description = pd.read_csv(\"./gkd-dataset/dataset-index.csv\")\n",
    "df_dataset_description[df_dataset_description['image_kind']==3]"
   ]
  },
  {
   "cell_type": "code",
   "execution_count": 3,
   "id": "ae20bdce-e1b8-45de-a948-1a0c7b9bb2c2",
   "metadata": {},
   "outputs": [
    {
     "name": "stderr",
     "output_type": "stream",
     "text": [
      "2024-10-10 09:38:26.844525: E external/local_xla/xla/stream_executor/cuda/cuda_fft.cc:485] Unable to register cuFFT factory: Attempting to register factory for plugin cuFFT when one has already been registered\n",
      "2024-10-10 09:38:27.147921: E external/local_xla/xla/stream_executor/cuda/cuda_dnn.cc:8454] Unable to register cuDNN factory: Attempting to register factory for plugin cuDNN when one has already been registered\n",
      "2024-10-10 09:38:27.234474: E external/local_xla/xla/stream_executor/cuda/cuda_blas.cc:1452] Unable to register cuBLAS factory: Attempting to register factory for plugin cuBLAS when one has already been registered\n",
      "2024-10-10 09:38:27.856048: I tensorflow/core/platform/cpu_feature_guard.cc:210] This TensorFlow binary is optimized to use available CPU instructions in performance-critical operations.\n",
      "To enable the following instructions: AVX2 FMA, in other operations, rebuild TensorFlow with the appropriate compiler flags.\n",
      "2024-10-10 09:38:29.816698: W tensorflow/compiler/tf2tensorrt/utils/py_utils.cc:38] TF-TRT Warning: Could not find TensorRT\n"
     ]
    }
   ],
   "source": [
    "import numpy as np\n",
    "import tensorflow as tf\n",
    "from enum import Enum\n",
    "\n",
    "class GkdImageSlice:\n",
    "    def __init__(self, file_path, x: int, y: int, data: np.ndarray):\n",
    "        self.file_path = file_path\n",
    "        self.data = data\n",
    "        self.x = x\n",
    "        self.y = y\n",
    "\n",
    "class GkdImageKind(Enum):\n",
    "    UNLABELED_DC0=0\n",
    "    NIO_DC0=1\n",
    "    UNLABELED_DC2=2\n",
    "    NIO_DC2=3\n",
    "    IO_DC0=4\n",
    "    IO_DC2=5"
   ]
  },
  {
   "cell_type": "code",
   "execution_count": 4,
   "id": "22e5c525-a690-4be3-a090-1c3652cf178a",
   "metadata": {},
   "outputs": [],
   "source": [
    "class GkdDataSequence(tf.keras.utils.Sequence):\n",
    "    def __init__(self, path, image_kind: GkdImageKind, batch_size, shuffle=True):\n",
    "        super().__init__()\n",
    "        self.path = path\n",
    "        self.image_kind = image_kind\n",
    "        \n",
    "        df = pd.read_csv(self.path+\"/dataset-index.csv\")\n",
    "        self.dataset_index = df[df[\"image_kind\"]==self.image_kind.value].reset_index(drop=True)        \n",
    "        #if self.image_kind == \"unlabeled\":\n",
    "            #self.dataset_index =df[df[\"filepath\"].str.startswith(\"unlabeled\")].reset_index(drop=True)\n",
    "        #elif self.image_kind == \"NIO\":\n",
    "            #self.dataset_index =df[df[\"filepath\"].str.startswith(\"NIO\")].reset_index(drop=True)\n",
    "            \n",
    "        self.batch_size = batch_size\n",
    "        self.shuffle=shuffle\n",
    "        self.indexes = np.arange(len(self.dataset_index.index))\n",
    "        self.on_epoch_end()\n",
    "    \n",
    "    def on_epoch_end(self):\n",
    "        if self.shuffle:\n",
    "            np.random.shuffle(self.indexes)\n",
    "    \n",
    "    def __len__(self):\n",
    "        return int(np.floor(len(self.dataset_index.index)/self.batch_size))\n",
    "    \n",
    "    def __getitem__(self, batch_index):      \n",
    "        # Generate data for the batch\n",
    "        start_idx = batch_index * self.batch_size\n",
    "        end_idx = (batch_index + 1) * self.batch_size\n",
    "        batch_indexes = self.indexes[start_idx:end_idx]\n",
    "        X, y = self.__data_generation(batch_indexes)\n",
    "\n",
    "        \"\"\"I am returning X two times here, since my example model\n",
    "        is an Auto Encoder. In some cases this might not be what you want,\n",
    "        so maybe try using y here after converting it to something usable\n",
    "        \"\"\"\n",
    "        return np.asarray(X)/8191\n",
    "\n",
    "    def __data_generation(self, batch_index):\n",
    "        self.dataset_index.loc[batch_index][\"filepath\"]\n",
    "        X = [np.fromfile(\"./gkd-dataset/\"+path, dtype=np.float32).reshape(512, 512) for path in self.dataset_index.loc[batch_index][\"filepath\"]]\n",
    "        y = self.dataset_index.loc[batch_index][[\"original_image_name\", \"x\", \"y\"]].reset_index(drop=True)\n",
    "        return X, y"
   ]
  },
  {
   "cell_type": "markdown",
   "id": "8c1a98b9-4e1b-4240-b659-7816c16f5600",
   "metadata": {},
   "source": [
    "# Save images as grayscale to desired folder"
   ]
  },
  {
   "cell_type": "code",
   "execution_count": 5,
   "id": "f3bd4214-a496-4fa4-9101-d548a24104a7",
   "metadata": {},
   "outputs": [],
   "source": [
    "import os\n",
    "from PIL import Image\n",
    "import numpy as np"
   ]
  },
  {
   "cell_type": "code",
   "execution_count": 6,
   "id": "c0fc9d23-3e35-4435-bc87-7feda14ae168",
   "metadata": {},
   "outputs": [],
   "source": [
    "def save_img(image_array, output_path):\n",
    "    # Ensure the image array is in the correct shape and data type\n",
    "    if image_array.ndim == 3 and image_array.shape[0] == 1:\n",
    "        # Squeeze the single channel to get the shape (height, width)\n",
    "        grayscale_image = np.squeeze(image_array, axis=0)\n",
    "    else:\n",
    "        raise ValueError(\"Unexpected image array shape: {}\".format(image_array.shape))\n",
    "    # Normalize the image data to the range 0-255 and convert to uint8\n",
    "    grayscale_image = ((grayscale_image - np.min(grayscale_image)) / (np.max(grayscale_image) - np.min(grayscale_image)) * 255).astype(np.uint8)\n",
    "    # print(grayscale_image[0][0])\n",
    "\n",
    "    grayscale_image = Image.fromarray(grayscale_image, mode='L')\n",
    "    grayscale_image.save(output_path)"
   ]
  },
  {
   "cell_type": "code",
   "execution_count": 7,
   "id": "a612cd35-6d57-4a10-98c4-d50badf258c1",
   "metadata": {},
   "outputs": [],
   "source": [
    "gkd_dataset_DC0_unlabeled = GkdDataSequence(path=\"./gkd-dataset\", batch_size=1,image_kind=GkdImageKind.UNLABELED_DC0, shuffle=False)\n",
    "gkd_dataset_DC0_IO = GkdDataSequence(path=\"./gkd-dataset\", batch_size=1,image_kind=GkdImageKind.IO_DC0, shuffle=False)\n",
    "gkd_dataset_DC0_NIO = GkdDataSequence(path=\"./gkd-dataset\", batch_size=1,image_kind=GkdImageKind.NIO_DC0, shuffle=False)\n",
    "gkd_dataset_DC2_unlabeled = GkdDataSequence(path=\"./gkd-dataset\", batch_size=1,image_kind=GkdImageKind.UNLABELED_DC2, shuffle=False)\n",
    "gkd_dataset_DC2_IO = GkdDataSequence(path=\"./gkd-dataset\", batch_size=1,image_kind=GkdImageKind.IO_DC2, shuffle=False)\n",
    "gkd_dataset_DC2_NIO = GkdDataSequence(path=\"./gkd-dataset\", batch_size=1,image_kind=GkdImageKind.NIO_DC2, shuffle=False)"
   ]
  },
  {
   "cell_type": "code",
   "execution_count": 22,
   "id": "b17120c5-e5ac-4471-93ea-55c135e919de",
   "metadata": {},
   "outputs": [
    {
     "data": {
      "text/plain": [
       "14000"
      ]
     },
     "execution_count": 22,
     "metadata": {},
     "output_type": "execute_result"
    }
   ],
   "source": [
    "len(gkd_dataset_DC2_unlabeled)"
   ]
  },
  {
   "cell_type": "code",
   "execution_count": 18,
   "id": "b5928457-12c4-4266-b913-7edcfa1d165a",
   "metadata": {},
   "outputs": [],
   "source": [
    "# Create the output directory if it doesn't exist\n",
    "output_dir = []\n",
    "output_dir.append('./workspace/gkd_large/DC0/train/HR_512/HR')\n",
    "output_dir.append('./workspace/gkd_large/DC0/train/HR_128/HR')\n",
    "output_dir.append('./workspace/gkd_large/DC0/train/HR_128/LR_bicubic/X2')\n",
    "output_dir.append('./workspace/gkd_large/DC0/train/HR_128/LR_bicubic/X4')\n",
    "output_dir.append('./workspace/gkd_large/DC0/train/HR_128/LR_bicubic/X8')\n",
    "output_dir.append('./workspace/gkd_large/DC0/test/HR_128/good/HR')\n",
    "output_dir.append('./workspace/gkd_large/DC0/test/HR_128/good/LR_bicubic/X2')\n",
    "output_dir.append('./workspace/gkd_large/DC0/test/HR_128/good/LR_bicubic/X4')\n",
    "output_dir.append('./workspace/gkd_large/DC0/test/HR_128/good/LR_bicubic/X8')\n",
    "output_dir.append('./workspace/gkd_large/DC0/test/HR_128/bad/HR')\n",
    "output_dir.append('./workspace/gkd_large/DC0/test/HR_128/bad/LR_bicubic/X2')\n",
    "output_dir.append('./workspace/gkd_large/DC0/test/HR_128/bad/LR_bicubic/X4')\n",
    "output_dir.append('./workspace/gkd_large/DC0/test/HR_128/bad/LR_bicubic/X8')\n",
    "output_dir.append('./workspace/gkd_large/DC2/train/HR_512/HR')\n",
    "output_dir.append('./workspace/gkd_large/DC2/train/HR_128/HR')\n",
    "output_dir.append('./workspace/gkd_large/DC2/train/HR_128/LR_bicubic/X2')\n",
    "output_dir.append('./workspace/gkd_large/DC2/train/HR_128/LR_bicubic/X4')\n",
    "output_dir.append('./workspace/gkd_large/DC2/train/HR_128/LR_bicubic/X8')\n",
    "output_dir.append('./workspace/gkd_large/DC2/test/HR_128/good/HR')\n",
    "output_dir.append('./workspace/gkd_large/DC2/test/HR_128/good/LR_bicubic/X2')\n",
    "output_dir.append('./workspace/gkd_large/DC2/test/HR_128/good/LR_bicubic/X4')\n",
    "output_dir.append('./workspace/gkd_large/DC2/test/HR_128/good/LR_bicubic/X8')\n",
    "output_dir.append('./workspace/gkd_large/DC2/test/HR_128/bad/HR')\n",
    "output_dir.append('./workspace/gkd_large/DC2/test/HR_128/bad/LR_bicubic/X2')\n",
    "output_dir.append('./workspace/gkd_large/DC2/test/HR_128/bad/LR_bicubic/X4')\n",
    "output_dir.append('./workspace/gkd_large/DC2/test/HR_128/bad/LR_bicubic/X8')"
   ]
  },
  {
   "cell_type": "code",
   "execution_count": 19,
   "id": "b2fd4df9-cc7a-4eb0-b5cc-de49975eda81",
   "metadata": {},
   "outputs": [],
   "source": [
    "for out_dir in output_dir:\n",
    "    os.makedirs(out_dir, exist_ok=True)"
   ]
  },
  {
   "cell_type": "code",
   "execution_count": null,
   "id": "65dd0f5b-a2f1-45b8-890e-187e2ac7f836",
   "metadata": {},
   "outputs": [],
   "source": [
    "for i in range(448):\n",
    "    print(i,gkd_dataset_DC2_IO.dataset_index.loc[i, \"y\"])"
   ]
  },
  {
   "cell_type": "code",
   "execution_count": 23,
   "id": "2367c699-2f78-4e9c-8561-6fc7054c9fd8",
   "metadata": {},
   "outputs": [],
   "source": [
    "for i in range(14000):\n",
    "    image_array_1 = gkd_dataset_DC0_unlabeled[i]\n",
    "    original_position_1 = gkd_dataset_DC0_unlabeled.dataset_index.loc[i, \"y\"]\n",
    "    original_name_1 = gkd_dataset_DC0_unlabeled.dataset_index.loc[i, \"original_image_name\"]\n",
    "    output_path_1 = os.path.join(\"./workspace/gkd_large/DC0/train/HR_512/HR/\", f'{i}_{original_position_1}.png')\n",
    "    save_img(image_array_1, output_path_1)\n",
    "    \n",
    "    image_array_2 = gkd_dataset_DC2_unlabeled[i]\n",
    "    original_position_2 = gkd_dataset_DC2_unlabeled.dataset_index.loc[i, \"y\"]\n",
    "    original_name_2 = gkd_dataset_DC2_unlabeled.dataset_index.loc[i, \"original_image_name\"]\n",
    "    output_path_2 = os.path.join(\"./workspace/gkd_large/DC2/train/HR_512/HR/\", f'{i}_{original_position_2}.png')\n",
    "    save_img(image_array_2, output_path_2)"
   ]
  },
  {
   "cell_type": "markdown",
   "id": "55f7419c-ce0e-4b81-8c4b-13b72d70e910",
   "metadata": {},
   "source": [
    "unlabeled_dc2: 14000 images\\\n",
    "unlabeled_dc0: 6650 images\\\n",
    "nio_dc2: 3360 images\\\n",
    "nio_dc0: 1960 images\\\n",
    "io_dc0: 448 images\\\n",
    "io_dc2: 448 images"
   ]
  },
  {
   "cell_type": "code",
   "execution_count": 9,
   "id": "db29cc73-edeb-46f7-8494-cfeb48919cb6",
   "metadata": {},
   "outputs": [
    {
     "ename": "NameError",
     "evalue": "name 'gkd_dataset' is not defined",
     "output_type": "error",
     "traceback": [
      "\u001b[0;31m---------------------------------------------------------------------------\u001b[0m",
      "\u001b[0;31mNameError\u001b[0m                                 Traceback (most recent call last)",
      "Cell \u001b[0;32mIn[9], line 2\u001b[0m\n\u001b[1;32m      1\u001b[0m \u001b[38;5;28;01mfor\u001b[39;00m i \u001b[38;5;129;01min\u001b[39;00m \u001b[38;5;28mrange\u001b[39m(\u001b[38;5;241m3\u001b[39m):\n\u001b[0;32m----> 2\u001b[0m     image_array \u001b[38;5;241m=\u001b[39m \u001b[43mgkd_dataset\u001b[49m[i]\n\u001b[1;32m      3\u001b[0m     \u001b[38;5;28mprint\u001b[39m(image_array\u001b[38;5;241m.\u001b[39mndim)\n\u001b[1;32m      4\u001b[0m     \u001b[38;5;28mprint\u001b[39m(image_array\u001b[38;5;241m.\u001b[39mshape[\u001b[38;5;241m0\u001b[39m])\n",
      "\u001b[0;31mNameError\u001b[0m: name 'gkd_dataset' is not defined"
     ]
    }
   ],
   "source": [
    "for i in range(3):\n",
    "    image_array = gkd_dataset[i]\n",
    "    print(image_array.ndim)\n",
    "    print(image_array.shape[0])"
   ]
  },
  {
   "cell_type": "code",
   "execution_count": null,
   "id": "901db291-c10b-4713-b4a9-be160ecadf3b",
   "metadata": {},
   "outputs": [],
   "source": [
    "for i in range(3):\n",
    "    image_array = gkd_dataset[i]\n",
    "    print(f\"Image {i} shape: {image_array.shape}, dtype: {image_array.dtype}\")\n",
    "    plt.imshow(image_array[0], cmap='gray')\n",
    "    plt.show()"
   ]
  },
  {
   "cell_type": "code",
   "execution_count": null,
   "id": "2cce59ee-f4fa-4f3a-936f-c9c8716cca21",
   "metadata": {},
   "outputs": [],
   "source": [
    "import os\n",
    "import shutil\n",
    "\n",
    "# Source directory containing the 5 folders\n",
    "source_dir = './workspace/mvtec_anomaly_detection_original/grid/test'\n",
    "\n",
    "# Destination directory where all images will be moved\n",
    "dest_dir = './workspace/mvtec_anomaly_detection_original/grid/bad'\n",
    "\n",
    "# Create the destination directory if it doesn't exist\n",
    "os.makedirs(dest_dir, exist_ok=True)\n",
    "\n",
    "# Iterate through all subdirectories in the source directory\n",
    "for folder_name in os.listdir(source_dir):\n",
    "    folder_path = os.path.join(source_dir, folder_name)\n",
    "    \n",
    "    # Check if it's a directory\n",
    "    if os.path.isdir(folder_path):\n",
    "        # Iterate through all files in the folder\n",
    "        for filename in os.listdir(folder_path):\n",
    "            # Check if the file is a PNG image\n",
    "            if filename.endswith('.png'):\n",
    "                # Construct the new filename\n",
    "                new_filename = f\"{os.path.splitext(filename)[0]}_{folder_name}.png\"\n",
    "                \n",
    "                # Construct full paths\n",
    "                src_path = os.path.join(folder_path, filename)\n",
    "                dest_path = os.path.join(dest_dir, new_filename)\n",
    "                \n",
    "                # Move and rename the file\n",
    "                shutil.move(src_path, dest_path)\n",
    "\n",
    "print(\"All images have been moved and renamed.\")"
   ]
  },
  {
   "cell_type": "code",
   "execution_count": 1,
   "id": "bfe4366c-969a-496d-b61c-be10f31f0b30",
   "metadata": {
    "tags": []
   },
   "outputs": [],
   "source": [
    "import os\n",
    "from PIL import Image\n",
    "import numpy as np\n",
    "from skimage import exposure"
   ]
  },
  {
   "cell_type": "code",
   "execution_count": 2,
   "id": "ecfeb461-886a-4022-9c6f-741f8a487c6b",
   "metadata": {
    "tags": []
   },
   "outputs": [],
   "source": [
    "def min_max_scaling(image_array):\n",
    "    min_val = np.min(image_array)\n",
    "    max_val = np.max(image_array)\n",
    "    return ((image_array - min_val) * (255 / (max_val - min_val))).astype(np.uint8)"
   ]
  },
  {
   "cell_type": "code",
   "execution_count": 3,
   "id": "38f95ca8-abd7-46d0-a782-889a2901b3f2",
   "metadata": {
    "tags": []
   },
   "outputs": [],
   "source": [
    "def histogram_equalization(image_array):\n",
    "    # Ensure the input array is in float format\n",
    "    image_array = image_array.astype(float)\n",
    "    \n",
    "    # Normalize to 0-1 range\n",
    "    image_array = (image_array - np.min(image_array)) / (np.max(image_array) - np.min(image_array))\n",
    "    \n",
    "    # Apply histogram equalization\n",
    "    if len(image_array.shape) == 2:  # Grayscale image\n",
    "        eq_array = exposure.equalize_hist(image_array)\n",
    "    elif len(image_array.shape) == 3:  # Color image\n",
    "        eq_array = np.dstack([exposure.equalize_hist(image_array[:,:,i]) \n",
    "                              for i in range(image_array.shape[2])])\n",
    "    \n",
    "    # Convert back to 0-255 range\n",
    "    return (eq_array * 255).astype(np.uint8)"
   ]
  },
  {
   "cell_type": "code",
   "execution_count": 6,
   "id": "b6e7c5fc-af61-4e0d-8c43-518a39769767",
   "metadata": {
    "tags": []
   },
   "outputs": [],
   "source": [
    "def process_images(source_folder, destination_folder):\n",
    "    # Create destination folder if it doesn't exist\n",
    "    if not os.path.exists(destination_folder):\n",
    "        os.makedirs(destination_folder)\n",
    "\n",
    "    # Process each PNG file in the source folder\n",
    "    for filename in os.listdir(source_folder):\n",
    "        if filename.lower().endswith('.png'):\n",
    "            # Open the image\n",
    "            img_path = os.path.join(source_folder, filename)\n",
    "            with Image.open(img_path) as img:\n",
    "                # Convert image to numpy array\n",
    "                img_array = np.array(img)\n",
    "\n",
    "                # Apply min-max scaling\n",
    "                scaled_array = histogram_equalization(img_array)\n",
    "\n",
    "                # Create a new image from the scaled array\n",
    "                scaled_img = Image.fromarray(scaled_array)\n",
    "\n",
    "                # Save the scaled image\n",
    "                output_path = os.path.join(destination_folder, f\"histo_{filename}\")\n",
    "                scaled_img.save(output_path)\n",
    "\n",
    "            # print(f\"Processed: {filename}\")\n",
    "\n",
    "    print(\"All images have been processed.\")"
   ]
  },
  {
   "cell_type": "code",
   "execution_count": 8,
   "id": "c49b3a99-3275-45cd-8e71-a6608356ec6f",
   "metadata": {
    "tags": []
   },
   "outputs": [
    {
     "name": "stdout",
     "output_type": "stream",
     "text": [
      "All images have been processed.\n",
      "All images have been processed.\n",
      "All images have been processed.\n",
      "All images have been processed.\n",
      "All images have been processed.\n",
      "All images have been processed.\n",
      "All images have been processed.\n",
      "All images have been processed.\n",
      "All images have been processed.\n",
      "All images have been processed.\n",
      "All images have been processed.\n",
      "All images have been processed.\n",
      "All images have been processed.\n",
      "All images have been processed.\n",
      "All images have been processed.\n",
      "All images have been processed.\n"
     ]
    }
   ],
   "source": [
    "mode = ['good', 'bad']\n",
    "models = ['mvtec_carpet_512_X811:34:19_pretrained',\n",
    "          'mvtec_carpet_512_X411:34:19_pretrained',\n",
    "          'mvtec_grid_512_X411:34:19_pretrained', \n",
    "          'mvtec_grid_512_X811:34:19_pretrained', \n",
    "          'gkd_DC0_512_X411:34:19_pretrained',\n",
    "          'gkd_DC0_512_X811:34:19_pretrained',\n",
    "          'gkd_DC2_512_X411:34:19_pretrained',\n",
    "          'gkd_DC2_512_X811:34:19_pretrained']\n",
    "\n",
    "for model in models:\n",
    "    for mod in mode:\n",
    "        source_folder = f\"workspace/images/drct/{model}/predicted_images/{mod}\"\n",
    "        destination_folder = f\"workspace/images/drct/{model}/predicted_images/histo_after_{mod}\"\n",
    "        process_images(source_folder,destination_folder)"
   ]
  },
  {
   "cell_type": "code",
   "execution_count": 7,
   "id": "a4a97a55-a895-4467-82d8-695055133116",
   "metadata": {
    "tags": []
   },
   "outputs": [
    {
     "name": "stdout",
     "output_type": "stream",
     "text": [
      "Processed: 018.png\n",
      "Processed: 016.png\n",
      "Processed: 008.png\n",
      "Processed: 017.png\n",
      "Processed: 007.png\n",
      "Processed: 006.png\n",
      "Processed: 000.png\n",
      "Processed: 005.png\n",
      "Processed: 025.png\n",
      "Processed: 015.png\n",
      "Processed: 019.png\n",
      "Processed: 012.png\n",
      "Processed: 010.png\n",
      "Processed: 004.png\n",
      "Processed: 021.png\n",
      "Processed: 001.png\n",
      "Processed: 023.png\n",
      "Processed: 014.png\n",
      "Processed: 022.png\n",
      "Processed: 009.png\n",
      "Processed: 026.png\n",
      "Processed: 027.png\n",
      "Processed: 002.png\n",
      "Processed: 003.png\n",
      "Processed: 024.png\n",
      "Processed: 011.png\n",
      "Processed: 013.png\n",
      "Processed: 020.png\n",
      "All images have been processed.\n"
     ]
    }
   ],
   "source": []
  },
  {
   "cell_type": "code",
   "execution_count": 1,
   "id": "ac8afd0d-2523-4da7-ad75-a8273a7f32b6",
   "metadata": {},
   "outputs": [],
   "source": [
    "import numpy as np\n",
    "from PIL import Image, ImageDraw, ImageFont"
   ]
  },
  {
   "cell_type": "code",
   "execution_count": 2,
   "id": "dd858db4-2edc-4442-842d-01e4c6db7cf5",
   "metadata": {},
   "outputs": [],
   "source": [
    "def create_pixel_value_image(image_path, output_path):\n",
    "    # Open the image\n",
    "    img = Image.open(image_path)\n",
    "    \n",
    "    # Convert the image to RGB mode if it's not already\n",
    "    img = img.convert('RGB')\n",
    "    \n",
    "    # Get the dimensions of the image\n",
    "    width, height = img.size\n",
    "    \n",
    "    # Create a new white image with the same dimensions\n",
    "    result = Image.new('RGB', (width * 10, height * 10), color='white')\n",
    "    draw = ImageDraw.Draw(result)\n",
    "    \n",
    "    # Try to load a font, fall back to default if not found\n",
    "    try:\n",
    "        font = ImageFont.truetype(\"arial.ttf\", 9)  # Adjust size as needed\n",
    "    except IOError:\n",
    "        font = ImageFont.load_default()\n",
    "\n",
    "    # Iterate through each pixel\n",
    "    for y in range(height):\n",
    "        for x in range(width):\n",
    "            r, g, b = img.getpixel((x, y))\n",
    "            avg = (r + g + b) // 3  # Average of RGB values\n",
    "            \n",
    "            # Draw the pixel value on the new image\n",
    "            draw.text((x * 10, y * 10), str(avg), fill='black', font=font)\n",
    "\n",
    "    # Save the result\n",
    "    result.save(output_path)"
   ]
  },
  {
   "cell_type": "code",
   "execution_count": 3,
   "id": "c970c948-0b00-49dc-9486-737d6abd029c",
   "metadata": {},
   "outputs": [],
   "source": [
    "input_image_path = 'workspace/images/drct/mvtec_carpet_32_X411:34:19_pretrained/predicted_images/bad/000_cut.png'\n",
    "output_image_path = '000_cut.png'\n",
    "create_pixel_value_image(input_image_path, output_image_path)"
   ]
  },
  {
   "cell_type": "code",
   "execution_count": 1,
   "id": "a63c2299-1248-4e33-ae78-fc63680cacc0",
   "metadata": {},
   "outputs": [],
   "source": [
    "import os\n",
    "import shutil"
   ]
  },
  {
   "cell_type": "code",
   "execution_count": 2,
   "id": "5b4daed1-18f0-4c1b-bea2-2bc28592cec1",
   "metadata": {},
   "outputs": [],
   "source": [
    "def create_directories(base_path):\n",
    "    for quality in ['good', 'bad']:\n",
    "        hr_path = os.path.join(base_path, quality, 'HR')\n",
    "        lr_path = os.path.join(base_path, quality, 'LR_bicubic')\n",
    "        os.makedirs(hr_path, exist_ok=True)\n",
    "        os.makedirs(os.path.join(lr_path, 'X2'), exist_ok=True)\n",
    "        os.makedirs(os.path.join(lr_path, 'X4'), exist_ok=True)"
   ]
  },
  {
   "cell_type": "code",
   "execution_count": 3,
   "id": "0faf5ebb-33e7-4115-9a20-11818c3120e9",
   "metadata": {},
   "outputs": [],
   "source": [
    "def copy_and_rename_files(base_path):\n",
    "    for quality in ['good', 'bad']:\n",
    "        source_path = os.path.join(base_path, quality)\n",
    "        hr_path = os.path.join(source_path, 'HR')\n",
    "        x2_path = os.path.join(source_path, 'LR_bicubic', 'X2')\n",
    "        x4_path = os.path.join(source_path, 'LR_bicubic', 'X4')\n",
    "\n",
    "        for filename in os.listdir(source_path):\n",
    "            if filename.lower().endswith('.png'):\n",
    "                # Copy to HR\n",
    "                shutil.copy2(os.path.join(source_path, filename), hr_path)\n",
    "\n",
    "                # Copy and rename for X2\n",
    "                x2_filename = os.path.splitext(filename)[0] + 'x2.png'\n",
    "                shutil.copy2(os.path.join(source_path, filename), os.path.join(x2_path, x2_filename))\n",
    "\n",
    "                # Copy and rename for X4\n",
    "                x4_filename = os.path.splitext(filename)[0] + 'x4.png'\n",
    "                shutil.copy2(os.path.join(source_path, filename), os.path.join(x4_path, x4_filename))"
   ]
  },
  {
   "cell_type": "code",
   "execution_count": 4,
   "id": "594233c4-c632-462b-b8ef-4f06acd4b5a2",
   "metadata": {},
   "outputs": [],
   "source": [
    "def process_folders(folder_list):\n",
    "    for folder in folder_list:\n",
    "        create_directories(folder)\n",
    "        copy_and_rename_files(folder)"
   ]
  },
  {
   "cell_type": "code",
   "execution_count": 5,
   "id": "04aa5e4c-c88a-453b-912c-18c790c67dbd",
   "metadata": {},
   "outputs": [],
   "source": [
    "folder_list = ['workspace_europa/images/drct/mvtec_carpet_128_X209:10:37/predicted_images',\n",
    "               'workspace_europa/images/drct/mvtec_grid_128_X218:54:11/predicted_images',\n",
    "               'workspace_europa/images/drct/gkd_DC0_128_X204:27:42/predicted_images',\n",
    "               'workspace_europa/images/drct/gkd_DC2_128_X220:23:16/predicted_images',\n",
    "              ]  \n",
    "process_folders(folder_list)"
   ]
  },
  {
   "cell_type": "code",
   "execution_count": null,
   "id": "abcffe63-00dc-47ca-a651-cc386d1431df",
   "metadata": {},
   "outputs": [],
   "source": []
  }
 ],
 "metadata": {
  "kernelspec": {
   "display_name": "Python 3",
   "language": "python",
   "name": "python3"
  },
  "language_info": {
   "codemirror_mode": {
    "name": "ipython",
    "version": 3
   },
   "file_extension": ".py",
   "mimetype": "text/x-python",
   "name": "python",
   "nbconvert_exporter": "python",
   "pygments_lexer": "ipython3",
   "version": "3.12.4"
  }
 },
 "nbformat": 4,
 "nbformat_minor": 5
}
